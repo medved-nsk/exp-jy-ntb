{
 "cells": [
  {
   "cell_type": "code",
   "execution_count": 3,
   "metadata": {},
   "outputs": [
    {
     "name": "stdout",
     "output_type": "stream",
     "text": [
      "c:\\users\\sativa\\medved\\src-git\\py\\exp-jy-ntb\\env\n"
     ]
    }
   ],
   "source": [
    "import sys; print(sys.prefix)"
   ]
  },
  {
   "cell_type": "code",
   "execution_count": 5,
   "metadata": {},
   "outputs": [],
   "source": [
    "import requests\n",
    "from bs4 import BeautifulSoup"
   ]
  },
  {
   "cell_type": "code",
   "execution_count": 33,
   "metadata": {},
   "outputs": [],
   "source": [
    "H_USERAGENT={'User-agent': 'Mozilla/5.0 (X11; Ubuntu; Linux x86_64; rv:61.0) Gecko/20100101 Firefox/61.0'}\n",
    "#r = requests.get('http://pyclass.com/example.html', headers=H_USERAGENT)\n",
    "URL_EXAMPLE='http://pyclass.com/example.html'\n",
    "#cont = r.content"
   ]
  },
  {
   "cell_type": "code",
   "execution_count": 51,
   "metadata": {},
   "outputs": [],
   "source": [
    "def req_to_soup(url, hdrs = H_USERAGENT):\n",
    "    r = requests.get(url, headers = hdrs)\n",
    "    cont = r.content\n",
    "    return BeautifulSoup(cont, \"html.parser\")\n",
    "soup = req_to_soup(URL_EXAMPLE)\n",
    "#print(soup.prettify())\n",
    "divs = soup.find_all('div', {'class':'cities'})"
   ]
  },
  {
   "cell_type": "code",
   "execution_count": 27,
   "metadata": {},
   "outputs": [
    {
     "name": "stdout",
     "output_type": "stream",
     "text": [
      "[<div class=\"cities\">\n",
      "<h2>London</h2>\n",
      "<p>London is the capital of England and it's been a British settlement since 2000 years ago. </p>\n",
      "</div>, <div class=\"cities\">\n",
      "<h2>Paris</h2>\n",
      "<p>Paris is the capital city of France. It was declared capital since 508.</p>\n",
      "</div>, <div class=\"cities\">\n",
      "<h2>Tokyo</h2>\n",
      "<p>Tokyo is the capital of Japan and one of the most populated cities in the world.</p>\n",
      "</div>]\n",
      "3\n",
      "<class 'bs4.element.ResultSet'>\n"
     ]
    }
   ],
   "source": [
    "print(divs)\n",
    "print(len(divs))\n",
    "print(type(divs))"
   ]
  },
  {
   "cell_type": "code",
   "execution_count": 31,
   "metadata": {},
   "outputs": [
    {
     "name": "stdout",
     "output_type": "stream",
     "text": [
      "London\n",
      "London\n",
      "Paris\n",
      "Tokyo\n"
     ]
    }
   ],
   "source": [
    "#print(divs[0].find_all(\"h2\")[0].text) # single\n",
    "\n",
    "for d in divs:\n",
    "    print(d.find('h2').text)"
   ]
  },
  {
   "cell_type": "code",
   "execution_count": 52,
   "metadata": {},
   "outputs": [],
   "source": [
    "# {'User-agent': 'Mozilla/5.0 (X11; Ubuntu; Linux x86_64; rv:61.0) Gecko/20100101 Firefox/61.0'}\n",
    "SRC_URL = \"http://www.pyclass.com/real-estate/rock-springs-wy/LCWYROCKSPRINGS/\"\n",
    "html_estate = req_to_soup(SRC_URL)"
   ]
  },
  {
   "cell_type": "code",
   "execution_count": 63,
   "metadata": {},
   "outputs": [],
   "source": [
    "rows = html_estate.find_all('div', {'class':'propertyRow'})"
   ]
  },
  {
   "cell_type": "code",
   "execution_count": 82,
   "metadata": {},
   "outputs": [
    {
     "name": "stdout",
     "output_type": "stream",
     "text": [
      "$725,000\n",
      "Beds: None\n",
      "\n",
      "$452,900\n",
      "Beds: 4\n",
      "Lot size 0.21 Acres\n",
      "\n",
      "$396,900\n",
      "Beds: 5\n",
      "\n",
      "$389,900\n",
      "Beds: 4\n",
      "Lot size Under 1/2 Acre, \n",
      "\n",
      "$254,000\n",
      "Beds: 3\n",
      "Lot size Under 1/2 Acre, \n",
      "\n",
      "$252,900\n",
      "Beds: 4\n",
      "Lot size 0.27 Acres\n",
      "\n",
      "$210,000\n",
      "Beds: 4\n",
      "Lot size Under 1/2 Acre, \n",
      "\n",
      "$209,000\n",
      "Beds: 3\n",
      "Lot size Under 1/2 Acre, \n",
      "\n",
      "$199,900\n",
      "Beds: 3\n",
      "Lot size Under 1/2 Acre, \n",
      "\n",
      "$196,900\n",
      "Beds: 3\n",
      "Lot size 2.02 Acres\n",
      "\n"
     ]
    }
   ],
   "source": [
    "def normalize_price(text):\n",
    "    return text.replace('\\n', '').replace(' ', '')\n",
    "\n",
    "def one_by_tag_class(html, tag, cname):\n",
    "    return html.find(tag, {'class': cname})\n",
    "\n",
    "def all_by_tag_class(html, tag, cname):\n",
    "    return html.find_all(tag, {'class': cname})\n",
    "\n",
    "def fetch_beds(item):\n",
    "    try:\n",
    "    #    print(item.find('span',{'class':'infoBed'}).find('b').text)\n",
    "        result = one_by_tag_class(item, 'span', 'infoBed').find('b').text\n",
    "    except: # XXX\n",
    "         result = None\n",
    "    return result\n",
    "\n",
    "items_list = []\n",
    "for item in rows:\n",
    "    d = {}\n",
    "    raw_price = item.find('h4', {'class':'propPrice'}).text\n",
    "    price = normalize_price(raw_price)\n",
    "    print(price)\n",
    "    d['price'] = price\n",
    "    \n",
    "    beds = fetch_beds(item)\n",
    "    print('Beds:', beds)\n",
    "    d['beds'] = beds\n",
    "\n",
    "    TAG_LOT_SIZE='Lot Size'\n",
    "    for col_group in all_by_tag_class(item, 'div', 'columnGroup'):\n",
    "        #print(col_group)\n",
    "        for feat_group, feat_name in zip(all_by_tag_class(col_group, 'span', 'featureGroup'), all_by_tag_class(col_group, 'span', 'featureName')):\n",
    "            #print(feat_group.text, feat_name.text) # everyting\n",
    "            if TAG_LOT_SIZE in feat_group.text:\n",
    "                print('Lot size:', feat_name.text)\n",
    "                d['lsize'] = feat_name.text\n",
    "    \n",
    "    items_list.append(d)\n",
    "    print('')"
   ]
  },
  {
   "cell_type": "code",
   "execution_count": 83,
   "metadata": {},
   "outputs": [],
   "source": [
    "import pandas\n",
    "df = pandas.DataFrame(items_list)\n",
    "df.to_csv('estate.csv')"
   ]
  },
  {
   "cell_type": "code",
   "execution_count": 84,
   "metadata": {},
   "outputs": [
    {
     "data": {
      "text/html": [
       "<div>\n",
       "<style scoped>\n",
       "    .dataframe tbody tr th:only-of-type {\n",
       "        vertical-align: middle;\n",
       "    }\n",
       "\n",
       "    .dataframe tbody tr th {\n",
       "        vertical-align: top;\n",
       "    }\n",
       "\n",
       "    .dataframe thead th {\n",
       "        text-align: right;\n",
       "    }\n",
       "</style>\n",
       "<table border=\"1\" class=\"dataframe\">\n",
       "  <thead>\n",
       "    <tr style=\"text-align: right;\">\n",
       "      <th></th>\n",
       "      <th>price</th>\n",
       "      <th>beds</th>\n",
       "      <th>lsize</th>\n",
       "    </tr>\n",
       "  </thead>\n",
       "  <tbody>\n",
       "    <tr>\n",
       "      <th>0</th>\n",
       "      <td>$725,000</td>\n",
       "      <td>None</td>\n",
       "      <td>NaN</td>\n",
       "    </tr>\n",
       "    <tr>\n",
       "      <th>1</th>\n",
       "      <td>$452,900</td>\n",
       "      <td>4</td>\n",
       "      <td>0.21 Acres</td>\n",
       "    </tr>\n",
       "    <tr>\n",
       "      <th>2</th>\n",
       "      <td>$396,900</td>\n",
       "      <td>5</td>\n",
       "      <td>NaN</td>\n",
       "    </tr>\n",
       "    <tr>\n",
       "      <th>3</th>\n",
       "      <td>$389,900</td>\n",
       "      <td>4</td>\n",
       "      <td>Under 1/2 Acre,</td>\n",
       "    </tr>\n",
       "    <tr>\n",
       "      <th>4</th>\n",
       "      <td>$254,000</td>\n",
       "      <td>3</td>\n",
       "      <td>Under 1/2 Acre,</td>\n",
       "    </tr>\n",
       "    <tr>\n",
       "      <th>5</th>\n",
       "      <td>$252,900</td>\n",
       "      <td>4</td>\n",
       "      <td>0.27 Acres</td>\n",
       "    </tr>\n",
       "    <tr>\n",
       "      <th>6</th>\n",
       "      <td>$210,000</td>\n",
       "      <td>4</td>\n",
       "      <td>Under 1/2 Acre,</td>\n",
       "    </tr>\n",
       "    <tr>\n",
       "      <th>7</th>\n",
       "      <td>$209,000</td>\n",
       "      <td>3</td>\n",
       "      <td>Under 1/2 Acre,</td>\n",
       "    </tr>\n",
       "    <tr>\n",
       "      <th>8</th>\n",
       "      <td>$199,900</td>\n",
       "      <td>3</td>\n",
       "      <td>Under 1/2 Acre,</td>\n",
       "    </tr>\n",
       "    <tr>\n",
       "      <th>9</th>\n",
       "      <td>$196,900</td>\n",
       "      <td>3</td>\n",
       "      <td>2.02 Acres</td>\n",
       "    </tr>\n",
       "  </tbody>\n",
       "</table>\n",
       "</div>"
      ],
      "text/plain": [
       "      price  beds             lsize\n",
       "0  $725,000  None               NaN\n",
       "1  $452,900     4        0.21 Acres\n",
       "2  $396,900     5               NaN\n",
       "3  $389,900     4  Under 1/2 Acre, \n",
       "4  $254,000     3  Under 1/2 Acre, \n",
       "5  $252,900     4        0.27 Acres\n",
       "6  $210,000     4  Under 1/2 Acre, \n",
       "7  $209,000     3  Under 1/2 Acre, \n",
       "8  $199,900     3  Under 1/2 Acre, \n",
       "9  $196,900     3        2.02 Acres"
      ]
     },
     "execution_count": 84,
     "metadata": {},
     "output_type": "execute_result"
    }
   ],
   "source": [
    "frame"
   ]
  },
  {
   "cell_type": "code",
   "execution_count": null,
   "metadata": {},
   "outputs": [],
   "source": []
  }
 ],
 "metadata": {
  "kernelspec": {
   "display_name": "Python 3",
   "language": "python",
   "name": "python3"
  },
  "language_info": {
   "codemirror_mode": {
    "name": "ipython",
    "version": 3
   },
   "file_extension": ".py",
   "mimetype": "text/x-python",
   "name": "python",
   "nbconvert_exporter": "python",
   "pygments_lexer": "ipython3",
   "version": "3.6.8"
  }
 },
 "nbformat": 4,
 "nbformat_minor": 2
}
