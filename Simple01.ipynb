{
 "cells": [
  {
   "cell_type": "code",
   "execution_count": 3,
   "metadata": {},
   "outputs": [
    {
     "name": "stdout",
     "output_type": "stream",
     "text": [
      "Halo, Joe\n",
      "Halo, Gans\n"
     ]
    }
   ],
   "source": [
    "# Simple function\n",
    "def greeting(name):\n",
    "    print('Halo,', name)\n",
    "\n",
    "# Class with pointer to function\n",
    "class Greeter:\n",
    "    def __init__(self, a_greeting):\n",
    "        self.a_greeting = a_greeting\n",
    "        \n",
    "g = Greeter(greeting)\n",
    "g.a_greeting('Joe')\n",
    "\n",
    "# List of instances\n",
    "greeters = [\n",
    "    { 'g': Greeter(greeting), 'name': 'Gans' }\n",
    "]\n",
    "\n",
    "greeters[0]['g'].a_greeting(greeters[0]['name'])"
   ]
  },
  {
   "cell_type": "code",
   "execution_count": null,
   "metadata": {},
   "outputs": [],
   "source": []
  }
 ],
 "metadata": {
  "kernelspec": {
   "display_name": "Python 3",
   "language": "python",
   "name": "python3"
  },
  "language_info": {
   "codemirror_mode": {
    "name": "ipython",
    "version": 3
   },
   "file_extension": ".py",
   "mimetype": "text/x-python",
   "name": "python",
   "nbconvert_exporter": "python",
   "pygments_lexer": "ipython3",
   "version": "3.6.8"
  }
 },
 "nbformat": 4,
 "nbformat_minor": 2
}
