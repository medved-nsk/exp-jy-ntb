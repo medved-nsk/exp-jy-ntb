{
 "cells": [
  {
   "cell_type": "code",
   "execution_count": 3,
   "metadata": {},
   "outputs": [
    {
     "name": "stdout",
     "output_type": "stream",
     "text": [
      "Halo, Joe\n",
      "Halo, Gans\n"
     ]
    }
   ],
   "source": [
    "# Simple function\n",
    "def greeting(name):\n",
    "    print('Halo,', name)\n",
    "\n",
    "# Class with pointer to function\n",
    "class Greeter:\n",
    "    def __init__(self, a_greeting):\n",
    "        self.a_greeting = a_greeting\n",
    "        \n",
    "g = Greeter(greeting)\n",
    "g.a_greeting('Joe')\n",
    "\n",
    "# List of instances\n",
    "greeters = [\n",
    "    { 'g': Greeter(greeting), 'name': 'Gans' }\n",
    "]\n",
    "\n",
    "greeters[0]['g'].a_greeting(greeters[0]['name'])"
   ]
  },
  {
   "cell_type": "raw",
   "metadata": {},
   "source": [
    "# basic class\n",
    "class Internal():\n",
    "    def show():\n",
    "        print('xxx')\n",
    "        return []\n",
    "\n",
    "# another class contains basic\n",
    "class Simple():\n",
    "    def __init__(self, obj):\n",
    "        self.target = obj\n",
    "\n",
    "    # chain call inner object with\n",
    "    def __getattr__(self, method):\n",
    "        return getattr(self.target, method)\n",
    "\n",
    "tmp = Internal\n",
    "tmp.show()\n",
    "\n",
    "simple = Simple(tmp)\n",
    "res = simple.show()\n",
    "print(res)"
   ]
  },
  {
   "cell_type": "code",
   "execution_count": null,
   "metadata": {},
   "outputs": [],
   "source": []
  },
  {
   "cell_type": "code",
   "execution_count": 18,
   "metadata": {},
   "outputs": [
    {
     "name": "stdout",
     "output_type": "stream",
     "text": [
      "[2, 4, 8]\n"
     ]
    }
   ],
   "source": [
    "# lists comprehension\n",
    "vec1 = [1,2,-3,4]\n",
    "\n",
    "print([it * 2 for it in vec1 if it > 0])\n",
    "#v3 = [it * 2 if it > 0 for it in vec1] # SyntaxError\n",
    "print([it * 2 for it in vec1 if it > 0])\n"
   ]
  },
  {
   "cell_type": "code",
   "execution_count": 20,
   "metadata": {},
   "outputs": [
    {
     "data": {
      "text/plain": [
       "10.7"
      ]
     },
     "execution_count": 20,
     "metadata": {},
     "output_type": "execute_result"
    }
   ],
   "source": [
    "sum([4,5,6])\n",
    "sum([4.5, 6.2])\n"
   ]
  },
  {
   "cell_type": "code",
   "execution_count": 30,
   "metadata": {},
   "outputs": [
    {
     "name": "stdout",
     "output_type": "stream",
     "text": [
      "# Simple function\n",
      "def greeting(name):\n",
      "        print('Halo,', name)\n",
      "\n",
      "        # Class with pointer to function\n",
      "        class Greeter:\n",
      "                def __init__(self, a_greeting):\n",
      "                            self.a_greeting = a_greeting\n",
      "                                    \n",
      "g = Greeter(greeting)\n",
      "g.a_greeting('Joe')\n",
      "\n",
      "# List of instances\n",
      "greeters = [\n",
      "        { 'g': Greeter(greeting), 'name': 'Gans' }\n",
      "]\n",
      "\n",
      "greeters[0]['g'].a_greeting(greeters[0]['name'])\n",
      "\n"
     ]
    }
   ],
   "source": [
    "with open('func-ptr.py') as fn:\n",
    "    code = fn.read()\n",
    "\n",
    "print(code)"
   ]
  },
  {
   "cell_type": "code",
   "execution_count": 37,
   "metadata": {},
   "outputs": [
    {
     "name": "stdout",
     "output_type": "stream",
     "text": [
      "83362952\n",
      "83362952\n",
      "83362952\n",
      "83362952\n",
      "83362952\n",
      "[1, 3, 5, 3, 'x', 'fun']\n",
      "83362952\n",
      "[1, 3, 5, 3, 'x', 'fun', 'z']\n"
     ]
    }
   ],
   "source": [
    "# lists\n",
    "\n",
    "def p_id(obj):\n",
    "    print(id(obj))\n",
    "\n",
    "def fun(arr):\n",
    "    arr.append('x')\n",
    "    p_id(a)\n",
    "    b = a\n",
    "    p_id(b)\n",
    "    b.append('fun')\n",
    "    p_id(b)\n",
    "    return b\n",
    "\n",
    "a = [1, 3, 5]; p_id(a)\n",
    "a.append(3); p_id(a)\n",
    "\n",
    "res = fun(a)\n",
    "print(a)\n",
    "\n",
    "p_id(res)\n",
    "res.append('z')\n",
    "print(a)"
   ]
  },
  {
   "cell_type": "code",
   "execution_count": 54,
   "metadata": {},
   "outputs": [
    {
     "name": "stdout",
     "output_type": "stream",
     "text": [
      "['77']\n",
      "86500488\n",
      "None\n"
     ]
    },
    {
     "ename": "TypeError",
     "evalue": "'str' object is not callable",
     "output_type": "error",
     "traceback": [
      "\u001b[1;31m---------------------------------------------------------------------------\u001b[0m",
      "\u001b[1;31mTypeError\u001b[0m                                 Traceback (most recent call last)",
      "\u001b[1;32m<ipython-input-54-14ba4eab12ab>\u001b[0m in \u001b[0;36m<module>\u001b[1;34m\u001b[0m\n\u001b[0;32m     31\u001b[0m     \u001b[1;32mreturn\u001b[0m \u001b[1;34m\"Name\"\u001b[0m\u001b[1;33m\u001b[0m\u001b[1;33m\u001b[0m\u001b[0m\n\u001b[0;32m     32\u001b[0m \u001b[1;33m\u001b[0m\u001b[0m\n\u001b[1;32m---> 33\u001b[1;33m \u001b[0mwr\u001b[0m \u001b[1;33m=\u001b[0m \u001b[0mfunc_name\u001b[0m\u001b[1;33m(\u001b[0m\u001b[1;33m)\u001b[0m\u001b[1;33m\u001b[0m\u001b[1;33m\u001b[0m\u001b[0m\n\u001b[0m",
      "\u001b[1;31mTypeError\u001b[0m: 'str' object is not callable"
     ]
    }
   ],
   "source": [
    "# Decorators\n",
    "def show_id(fun):\n",
    "    def wrapper(arg):\n",
    "        fun(arg)\n",
    "        print(arg)\n",
    "        print(id(arg))\n",
    "        # ?? return fun(arg)\n",
    "    return wrapper\n",
    "\n",
    "@show_id\n",
    "def func(x):\n",
    "    x.append('77')\n",
    "\n",
    "def fun_ret(a, b):\n",
    "    return a.append(b)\n",
    "    \n",
    "a = []\n",
    "func(a)\n",
    "\n",
    "x = []\n",
    "x = fun_ret(x, 'bla')\n",
    "print(x)\n",
    "\n",
    "def wrap_in_tag(tag='a'):\n",
    "    def tagger(func):\n",
    "        return tag+func()+tag\n",
    "    return tagger\n",
    "    \n",
    "@wrap_in_tag()\n",
    "def func_name():\n",
    "    return \"Name\"\n",
    "\n",
    "wr = func_name()"
   ]
  },
  {
   "cell_type": "code",
   "execution_count": null,
   "metadata": {},
   "outputs": [],
   "source": []
  }
 ],
 "metadata": {
  "kernelspec": {
   "display_name": "Python 3",
   "language": "python",
   "name": "python3"
  },
  "language_info": {
   "codemirror_mode": {
    "name": "ipython",
    "version": 3
   },
   "file_extension": ".py",
   "mimetype": "text/x-python",
   "name": "python",
   "nbconvert_exporter": "python",
   "pygments_lexer": "ipython3",
   "version": "3.6.8"
  }
 },
 "nbformat": 4,
 "nbformat_minor": 2
}
